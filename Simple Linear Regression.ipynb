{
 "cells": [
  {
   "cell_type": "markdown",
   "id": "07e49aa8",
   "metadata": {
    "id": "07e49aa8"
   },
   "source": [
    "**Simple Linear Regression** is a type of Regression algorithms that models the relationship between a dependent variable and a single independent variable. The relationship shown by a Simple Linear Regression model is linear or a sloped straight line, hence it is called Simple Linear Regression."
   ]
  },
  {
   "cell_type": "markdown",
   "id": "4a36dad7",
   "metadata": {
    "id": "4a36dad7"
   },
   "source": [
    "#### Implementation of Simple Linear Regression\n",
    "**Problem Statement**-\n",
    "We are taking a dataset that has two variables: Salary (dependent variable) and Experience (Independent variable).\n",
    "\n",
    "The goals of this problem is:\n",
    "\n",
    "* We want to find out if there is any correlation between these two variables\n",
    "* We will find the best fit line for the dataset.\n",
    "* How the dependent variable is changing by changing the independent variable."
   ]
  },
  {
   "cell_type": "code",
   "execution_count": 2,
   "id": "1dd830dd",
   "metadata": {
    "id": "1dd830dd"
   },
   "outputs": [],
   "source": [
    "#Importing Basics libraries required\n",
    "import numpy as np\n",
    "import pandas as pd\n",
    "import matplotlib.pyplot as plt\n",
    "import seaborn as sns\n",
    "import warnings\n",
    "warnings.filterwarnings('ignore')"
   ]
  },
  {
   "cell_type": "markdown",
   "id": "fe6a6000",
   "metadata": {
    "id": "fe6a6000"
   },
   "source": [
    "### Step 1 : Data Loading:\n",
    "A sample data has been gathered which contains Experience as an independent feature & Salaries based on the experience as a dependent feature."
   ]
  },
  {
   "cell_type": "code",
   "execution_count": 3,
   "id": "3d4bdf23",
   "metadata": {
    "id": "3d4bdf23",
    "outputId": "23b1b2ab-5ad3-4a70-8d8e-14931ae16963"
   },
   "outputs": [
    {
     "data": {
      "text/html": [
       "<div>\n",
       "<style scoped>\n",
       "    .dataframe tbody tr th:only-of-type {\n",
       "        vertical-align: middle;\n",
       "    }\n",
       "\n",
       "    .dataframe tbody tr th {\n",
       "        vertical-align: top;\n",
       "    }\n",
       "\n",
       "    .dataframe thead th {\n",
       "        text-align: right;\n",
       "    }\n",
       "</style>\n",
       "<table border=\"1\" class=\"dataframe\">\n",
       "  <thead>\n",
       "    <tr style=\"text-align: right;\">\n",
       "      <th></th>\n",
       "      <th>Experience</th>\n",
       "      <th>Salary</th>\n",
       "    </tr>\n",
       "  </thead>\n",
       "  <tbody>\n",
       "    <tr>\n",
       "      <th>0</th>\n",
       "      <td>1.0</td>\n",
       "      <td>34000</td>\n",
       "    </tr>\n",
       "    <tr>\n",
       "      <th>1</th>\n",
       "      <td>1.5</td>\n",
       "      <td>35900</td>\n",
       "    </tr>\n",
       "    <tr>\n",
       "      <th>2</th>\n",
       "      <td>1.6</td>\n",
       "      <td>34000</td>\n",
       "    </tr>\n",
       "    <tr>\n",
       "      <th>3</th>\n",
       "      <td>2.0</td>\n",
       "      <td>42579</td>\n",
       "    </tr>\n",
       "    <tr>\n",
       "      <th>4</th>\n",
       "      <td>1.7</td>\n",
       "      <td>33990</td>\n",
       "    </tr>\n",
       "    <tr>\n",
       "      <th>5</th>\n",
       "      <td>1.5</td>\n",
       "      <td>34000</td>\n",
       "    </tr>\n",
       "    <tr>\n",
       "      <th>6</th>\n",
       "      <td>2.2</td>\n",
       "      <td>43000</td>\n",
       "    </tr>\n",
       "    <tr>\n",
       "      <th>7</th>\n",
       "      <td>2.7</td>\n",
       "      <td>42500</td>\n",
       "    </tr>\n",
       "    <tr>\n",
       "      <th>8</th>\n",
       "      <td>1.1</td>\n",
       "      <td>30000</td>\n",
       "    </tr>\n",
       "    <tr>\n",
       "      <th>9</th>\n",
       "      <td>2.9</td>\n",
       "      <td>45900</td>\n",
       "    </tr>\n",
       "    <tr>\n",
       "      <th>10</th>\n",
       "      <td>1.8</td>\n",
       "      <td>34900</td>\n",
       "    </tr>\n",
       "    <tr>\n",
       "      <th>11</th>\n",
       "      <td>1.6</td>\n",
       "      <td>32000</td>\n",
       "    </tr>\n",
       "    <tr>\n",
       "      <th>12</th>\n",
       "      <td>1.0</td>\n",
       "      <td>34000</td>\n",
       "    </tr>\n",
       "    <tr>\n",
       "      <th>13</th>\n",
       "      <td>1.8</td>\n",
       "      <td>34000</td>\n",
       "    </tr>\n",
       "    <tr>\n",
       "      <th>14</th>\n",
       "      <td>3.0</td>\n",
       "      <td>49000</td>\n",
       "    </tr>\n",
       "    <tr>\n",
       "      <th>15</th>\n",
       "      <td>3.7</td>\n",
       "      <td>50000</td>\n",
       "    </tr>\n",
       "    <tr>\n",
       "      <th>16</th>\n",
       "      <td>3.3</td>\n",
       "      <td>49990</td>\n",
       "    </tr>\n",
       "    <tr>\n",
       "      <th>17</th>\n",
       "      <td>4.0</td>\n",
       "      <td>54390</td>\n",
       "    </tr>\n",
       "    <tr>\n",
       "      <th>18</th>\n",
       "      <td>4.2</td>\n",
       "      <td>53000</td>\n",
       "    </tr>\n",
       "    <tr>\n",
       "      <th>19</th>\n",
       "      <td>3.5</td>\n",
       "      <td>45000</td>\n",
       "    </tr>\n",
       "    <tr>\n",
       "      <th>20</th>\n",
       "      <td>3.6</td>\n",
       "      <td>47900</td>\n",
       "    </tr>\n",
       "    <tr>\n",
       "      <th>21</th>\n",
       "      <td>4.9</td>\n",
       "      <td>60000</td>\n",
       "    </tr>\n",
       "  </tbody>\n",
       "</table>\n",
       "</div>"
      ],
      "text/plain": [
       "    Experience  Salary\n",
       "0          1.0   34000\n",
       "1          1.5   35900\n",
       "2          1.6   34000\n",
       "3          2.0   42579\n",
       "4          1.7   33990\n",
       "5          1.5   34000\n",
       "6          2.2   43000\n",
       "7          2.7   42500\n",
       "8          1.1   30000\n",
       "9          2.9   45900\n",
       "10         1.8   34900\n",
       "11         1.6   32000\n",
       "12         1.0   34000\n",
       "13         1.8   34000\n",
       "14         3.0   49000\n",
       "15         3.7   50000\n",
       "16         3.3   49990\n",
       "17         4.0   54390\n",
       "18         4.2   53000\n",
       "19         3.5   45000\n",
       "20         3.6   47900\n",
       "21         4.9   60000"
      ]
     },
     "execution_count": 3,
     "metadata": {},
     "output_type": "execute_result"
    }
   ],
   "source": [
    "data = pd.read_excel(r\"C:\\Users\\prath\\Desktop\\Course\\Machine Learning\\Salary (1).xlsx\")\n",
    "data"
   ]
  },
  {
   "cell_type": "code",
   "execution_count": 4,
   "id": "b16aba71",
   "metadata": {
    "id": "b16aba71",
    "outputId": "0917a29f-ae35-417d-cbae-eb5407561cde"
   },
   "outputs": [
    {
     "data": {
      "text/plain": [
       "(22, 2)"
      ]
     },
     "execution_count": 4,
     "metadata": {},
     "output_type": "execute_result"
    }
   ],
   "source": [
    "data.shape"
   ]
  },
  {
   "cell_type": "markdown",
   "id": "b40fa07a",
   "metadata": {
    "id": "b40fa07a"
   },
   "source": [
    "### Data Cleaning :\n",
    "Removal of missing or irrelevant data points if any. Also ensuring both columns are numeric in nature as the Experience & Salary both features are numerical observations."
   ]
  },
  {
   "cell_type": "code",
   "execution_count": 5,
   "id": "a3960303",
   "metadata": {
    "id": "a3960303",
    "outputId": "60479ba7-b3e6-4651-e6b3-a7d4c5c0edef"
   },
   "outputs": [
    {
     "data": {
      "text/html": [
       "<div>\n",
       "<style scoped>\n",
       "    .dataframe tbody tr th:only-of-type {\n",
       "        vertical-align: middle;\n",
       "    }\n",
       "\n",
       "    .dataframe tbody tr th {\n",
       "        vertical-align: top;\n",
       "    }\n",
       "\n",
       "    .dataframe thead th {\n",
       "        text-align: right;\n",
       "    }\n",
       "</style>\n",
       "<table border=\"1\" class=\"dataframe\">\n",
       "  <thead>\n",
       "    <tr style=\"text-align: right;\">\n",
       "      <th></th>\n",
       "      <th>Experience</th>\n",
       "      <th>Salary</th>\n",
       "    </tr>\n",
       "  </thead>\n",
       "  <tbody>\n",
       "    <tr>\n",
       "      <th>count</th>\n",
       "      <td>22.000000</td>\n",
       "      <td>22.000000</td>\n",
       "    </tr>\n",
       "    <tr>\n",
       "      <th>mean</th>\n",
       "      <td>2.481818</td>\n",
       "      <td>41820.409091</td>\n",
       "    </tr>\n",
       "    <tr>\n",
       "      <th>std</th>\n",
       "      <td>1.147932</td>\n",
       "      <td>8594.095363</td>\n",
       "    </tr>\n",
       "    <tr>\n",
       "      <th>min</th>\n",
       "      <td>1.000000</td>\n",
       "      <td>30000.000000</td>\n",
       "    </tr>\n",
       "    <tr>\n",
       "      <th>25%</th>\n",
       "      <td>1.600000</td>\n",
       "      <td>34000.000000</td>\n",
       "    </tr>\n",
       "    <tr>\n",
       "      <th>50%</th>\n",
       "      <td>2.100000</td>\n",
       "      <td>42539.500000</td>\n",
       "    </tr>\n",
       "    <tr>\n",
       "      <th>75%</th>\n",
       "      <td>3.450000</td>\n",
       "      <td>48725.000000</td>\n",
       "    </tr>\n",
       "    <tr>\n",
       "      <th>max</th>\n",
       "      <td>4.900000</td>\n",
       "      <td>60000.000000</td>\n",
       "    </tr>\n",
       "  </tbody>\n",
       "</table>\n",
       "</div>"
      ],
      "text/plain": [
       "       Experience        Salary\n",
       "count   22.000000     22.000000\n",
       "mean     2.481818  41820.409091\n",
       "std      1.147932   8594.095363\n",
       "min      1.000000  30000.000000\n",
       "25%      1.600000  34000.000000\n",
       "50%      2.100000  42539.500000\n",
       "75%      3.450000  48725.000000\n",
       "max      4.900000  60000.000000"
      ]
     },
     "execution_count": 5,
     "metadata": {},
     "output_type": "execute_result"
    }
   ],
   "source": [
    "data.describe()"
   ]
  },
  {
   "cell_type": "code",
   "execution_count": 6,
   "id": "a1790c4f",
   "metadata": {
    "id": "a1790c4f",
    "outputId": "c77f6938-53e7-4624-b114-2383009bf5c2"
   },
   "outputs": [
    {
     "name": "stdout",
     "output_type": "stream",
     "text": [
      "<class 'pandas.core.frame.DataFrame'>\n",
      "RangeIndex: 22 entries, 0 to 21\n",
      "Data columns (total 2 columns):\n",
      " #   Column      Non-Null Count  Dtype  \n",
      "---  ------      --------------  -----  \n",
      " 0   Experience  22 non-null     float64\n",
      " 1   Salary      22 non-null     int64  \n",
      "dtypes: float64(1), int64(1)\n",
      "memory usage: 484.0 bytes\n"
     ]
    }
   ],
   "source": [
    "data.info()"
   ]
  },
  {
   "cell_type": "code",
   "execution_count": 7,
   "id": "f7fbbd86",
   "metadata": {
    "id": "f7fbbd86",
    "outputId": "1f0c37c6-e61b-43df-da88-6130d838f20a"
   },
   "outputs": [
    {
     "data": {
      "text/plain": [
       "Experience    0\n",
       "Salary        0\n",
       "dtype: int64"
      ]
     },
     "execution_count": 7,
     "metadata": {},
     "output_type": "execute_result"
    }
   ],
   "source": [
    "data.isnull().sum()"
   ]
  },
  {
   "cell_type": "markdown",
   "id": "99a450df",
   "metadata": {
    "id": "99a450df"
   },
   "source": [
    "As per the above observations we can see that both the variables are numeric in nature which means the data is in proper format. We can also observe that the columns/features do not have any missing values."
   ]
  },
  {
   "cell_type": "code",
   "execution_count": 8,
   "id": "44305951",
   "metadata": {
    "id": "44305951",
    "outputId": "1485b3d7-9718-4708-fdb3-c032c0b5f0ea"
   },
   "outputs": [
    {
     "data": {
      "image/png": "[encoded data removed]",
      "text/plain": [
       "<Figure size 640x480 with 1 Axes>"
      ]
     },
     "metadata": {},
     "output_type": "display_data"
    },
    {
     "data": {
      "image/png": "[encoded data removed]",
      "text/plain": [
       "<Figure size 640x480 with 1 Axes>"
      ]
     },
     "metadata": {},
     "output_type": "display_data"
    }
   ],
   "source": [
    "#Assumption 1: There should be no outliers in the data.\n",
    "#Check using boxplot.\n",
    "for i in data.columns:\n",
    "    data.boxplot(column=i)\n",
    "    plt.show()"
   ]
  },
  {
   "cell_type": "code",
   "execution_count": 10,
   "id": "c3ff0760",
   "metadata": {
    "id": "c3ff0760",
    "outputId": "59551c03-b55d-46a1-eb09-1b21a09d39cf"
   },
   "outputs": [
    {
     "data": {
      "image/png": "[encoded data removed]",
      "text/plain": [
       "<Figure size 500x500 with 1 Axes>"
      ]
     },
     "metadata": {},
     "output_type": "display_data"
    }
   ],
   "source": [
    "#Assumption 2:Assumption of Linearity:Every ind var should have a\n",
    "#linear relationship with the dep var.\n",
    "\n",
    "sns.lmplot(data=data,x='Experience',y='Salary')\n",
    "plt.show();"
   ]
  },
  {
   "cell_type": "markdown",
   "id": "c9a8390b",
   "metadata": {
    "id": "c9a8390b"
   },
   "source": [
    "### Step 4: Data Splitting"
   ]
  },
  {
   "cell_type": "code",
   "execution_count": 11,
   "id": "a83f2866",
   "metadata": {
    "id": "a83f2866"
   },
   "outputs": [],
   "source": [
    "x= data.iloc[:,:-1].values\n",
    "y= data.iloc[:, -1].values"
   ]
  },
  {
   "cell_type": "code",
   "execution_count": 13,
   "id": "4a0f84c1-5976-4c2f-9ceb-2e0a385602bf",
   "metadata": {},
   "outputs": [
    {
     "data": {
      "text/plain": [
       "array([[1. ],\n",
       "       [1.5],\n",
       "       [1.6],\n",
       "       [2. ],\n",
       "       [1.7],\n",
       "       [1.5],\n",
       "       [2.2],\n",
       "       [2.7],\n",
       "       [1.1],\n",
       "       [2.9],\n",
       "       [1.8],\n",
       "       [1.6],\n",
       "       [1. ],\n",
       "       [1.8],\n",
       "       [3. ],\n",
       "       [3.7],\n",
       "       [3.3],\n",
       "       [4. ],\n",
       "       [4.2],\n",
       "       [3.5],\n",
       "       [3.6],\n",
       "       [4.9]])"
      ]
     },
     "execution_count": 13,
     "metadata": {},
     "output_type": "execute_result"
    }
   ],
   "source": [
    "x"
   ]
  },
  {
   "cell_type": "code",
   "execution_count": 14,
   "id": "432309a9",
   "metadata": {
    "id": "432309a9",
    "outputId": "22f2177d-a27f-41ad-ad3b-5bd61e285327"
   },
   "outputs": [
    {
     "data": {
      "text/plain": [
       "array([34000, 35900, 34000, 42579, 33990, 34000, 43000, 42500, 30000,\n",
       "       45900, 34900, 32000, 34000, 34000, 49000, 50000, 49990, 54390,\n",
       "       53000, 45000, 47900, 60000])"
      ]
     },
     "execution_count": 14,
     "metadata": {},
     "output_type": "execute_result"
    }
   ],
   "source": [
    "y"
   ]
  },
  {
   "cell_type": "code",
   "execution_count": 15,
   "id": "b0ed9dc0",
   "metadata": {
    "id": "b0ed9dc0",
    "outputId": "86c1081a-31b7-47e4-8404-e65ac740fe28"
   },
   "outputs": [
    {
     "data": {
      "image/png": "[encoded data removed]",
      "text/plain": [
       "<Figure size 640x480 with 1 Axes>"
      ]
     },
     "metadata": {},
     "output_type": "display_data"
    }
   ],
   "source": [
    "#Assumption of Normality: The dependent variable should follow an\n",
    "#approximate normal distribution\n",
    "sns.distplot(y)\n",
    "plt.show()"
   ]
  },
  {
   "cell_type": "code",
   "execution_count": 16,
   "id": "b37d802a",
   "metadata": {
    "id": "b37d802a",
    "outputId": "23e93281-293e-46b8-96a9-58a169a184c9"
   },
   "outputs": [
    {
     "data": {
      "text/plain": [
       "'\\n# Log transformation\\nimport numpy as np\\ny_log  = np.log(y)\\n'"
      ]
     },
     "execution_count": 16,
     "metadata": {},
     "output_type": "execute_result"
    }
   ],
   "source": [
    "\"\"\"\n",
    "# Log transformation\n",
    "import numpy as np\n",
    "y_log  = np.log(y)\n",
    "\"\"\""
   ]
  },
  {
   "cell_type": "code",
   "execution_count": 21,
   "id": "7ba2ae58",
   "metadata": {
    "id": "7ba2ae58"
   },
   "outputs": [],
   "source": [
    "#sns.distplot(y_log)\n",
    "#plt.show()"
   ]
  },
  {
   "cell_type": "code",
   "execution_count": 22,
   "id": "ec25a968",
   "metadata": {
    "id": "ec25a968"
   },
   "outputs": [],
   "source": [
    "# Splitting the dataset into training and test set.\n",
    "from sklearn.model_selection import train_test_split\n",
    "x_train, x_test, y_train, y_test= train_test_split(x, y, test_size= 1/3 , random_state=0)"
   ]
  },
  {
   "cell_type": "code",
   "execution_count": 23,
   "id": "12b6069d",
   "metadata": {
    "id": "12b6069d",
    "outputId": "abd65844-b04b-451c-f033-1fecf2d0db51"
   },
   "outputs": [
    {
     "name": "stdout",
     "output_type": "stream",
     "text": [
      "(14, 1)\n",
      "(8, 1)\n",
      "(14,)\n",
      "(8,)\n"
     ]
    }
   ],
   "source": [
    "print(x_train.shape)\n",
    "print(x_test.shape)\n",
    "print(y_train.shape)\n",
    "print(y_test.shape)"
   ]
  },
  {
   "cell_type": "code",
   "execution_count": 24,
   "id": "d93ef9fc",
   "metadata": {
    "id": "d93ef9fc",
    "outputId": "637323d9-0e5d-48b7-d1b3-6d48ad34cbb5"
   },
   "outputs": [
    {
     "name": "stdout",
     "output_type": "stream",
     "text": [
      "24892.03664235489\n",
      "[7077.8263528]\n"
     ]
    }
   ],
   "source": [
    "#Fitting the Simple Linear Regression model to the training dataset\n",
    "from sklearn.linear_model import LinearRegression\n",
    "#create a model object\n",
    "lm = LinearRegression()\n",
    "#train the model object\n",
    "lm.fit(x_train,y_train)\n",
    "\n",
    "# print intercept and coefficients\n",
    "print(lm.intercept_)\n",
    "print(lm.coef_)"
   ]
  },
  {
   "cell_type": "code",
   "execution_count": 25,
   "id": "fd89083e",
   "metadata": {
    "id": "fd89083e"
   },
   "outputs": [],
   "source": [
    "#Prediction of Test and Training set result\n",
    "y_pred= lm.predict(x_test)\n",
    "x_pred= lm.predict(x_train)"
   ]
  },
  {
   "cell_type": "code",
   "execution_count": 26,
   "id": "01e30d8e",
   "metadata": {
    "id": "01e30d8e",
    "outputId": "cd62164b-3143-40b9-aa57-7e484856f476"
   },
   "outputs": [
    {
     "data": {
      "image/png": "[encoded data removed]",
      "text/plain": [
       "<Figure size 640x480 with 1 Axes>"
      ]
     },
     "metadata": {},
     "output_type": "display_data"
    }
   ],
   "source": [
    "plt.scatter(x_train, y_train, color=\"green\")\n",
    "plt.plot(x_train, x_pred, color=\"red\")\n",
    "plt.title(\"Salary vs Experience (Training Dataset)\")\n",
    "plt.xlabel(\"Years of Experience\")\n",
    "plt.ylabel(\"Salary(In Rupees)\")\n",
    "plt.show()"
   ]
  },
  {
   "cell_type": "code",
   "execution_count": 33,
   "id": "a22d1591",
   "metadata": {
    "id": "a22d1591",
    "outputId": "beb70e44-9049-49ad-c766-8115b831b49d"
   },
   "outputs": [
    {
     "data": {
      "image/png": "[encoded data removed]",
      "text/plain": [
       "<Figure size 640x480 with 1 Axes>"
      ]
     },
     "metadata": {},
     "output_type": "display_data"
    }
   ],
   "source": [
    "#visualizing the Test set results\n",
    "plt.scatter(x_test, y_test, color=\"blue\")\n",
    "plt.plot(x_train, x_pred, color=\"red\")\n",
    "plt.title(\"Salary vs Experience (Test Dataset)\")\n",
    "plt.xlabel(\"Years of Experience\")\n",
    "plt.ylabel(\"Salary(In Rupees)\")\n",
    "plt.show()"
   ]
  },
  {
   "cell_type": "code",
   "execution_count": 28,
   "id": "80833cda",
   "metadata": {
    "id": "80833cda",
    "outputId": "7feffde2-f718-4687-f747-3ec538450c15"
   },
   "outputs": [
    {
     "data": {
      "text/html": [
       "<div>\n",
       "<style scoped>\n",
       "    .dataframe tbody tr th:only-of-type {\n",
       "        vertical-align: middle;\n",
       "    }\n",
       "\n",
       "    .dataframe tbody tr th {\n",
       "        vertical-align: top;\n",
       "    }\n",
       "\n",
       "    .dataframe thead th {\n",
       "        text-align: right;\n",
       "    }\n",
       "</style>\n",
       "<table border=\"1\" class=\"dataframe\">\n",
       "  <thead>\n",
       "    <tr style=\"text-align: right;\">\n",
       "      <th></th>\n",
       "      <th>Experience</th>\n",
       "      <th>Actual Salary</th>\n",
       "      <th>Predicted Salary</th>\n",
       "    </tr>\n",
       "  </thead>\n",
       "  <tbody>\n",
       "    <tr>\n",
       "      <th>0</th>\n",
       "      <td>3.6</td>\n",
       "      <td>47900</td>\n",
       "      <td>50372.211512</td>\n",
       "    </tr>\n",
       "    <tr>\n",
       "      <th>1</th>\n",
       "      <td>1.8</td>\n",
       "      <td>34900</td>\n",
       "      <td>37632.124077</td>\n",
       "    </tr>\n",
       "    <tr>\n",
       "      <th>2</th>\n",
       "      <td>3.0</td>\n",
       "      <td>49000</td>\n",
       "      <td>46125.515701</td>\n",
       "    </tr>\n",
       "    <tr>\n",
       "      <th>3</th>\n",
       "      <td>1.8</td>\n",
       "      <td>34000</td>\n",
       "      <td>37632.124077</td>\n",
       "    </tr>\n",
       "    <tr>\n",
       "      <th>4</th>\n",
       "      <td>1.5</td>\n",
       "      <td>35900</td>\n",
       "      <td>35508.776172</td>\n",
       "    </tr>\n",
       "    <tr>\n",
       "      <th>5</th>\n",
       "      <td>4.9</td>\n",
       "      <td>60000</td>\n",
       "      <td>59573.385771</td>\n",
       "    </tr>\n",
       "    <tr>\n",
       "      <th>6</th>\n",
       "      <td>1.6</td>\n",
       "      <td>32000</td>\n",
       "      <td>36216.558807</td>\n",
       "    </tr>\n",
       "    <tr>\n",
       "      <th>7</th>\n",
       "      <td>3.5</td>\n",
       "      <td>45000</td>\n",
       "      <td>49664.428877</td>\n",
       "    </tr>\n",
       "  </tbody>\n",
       "</table>\n",
       "</div>"
      ],
      "text/plain": [
       "   Experience  Actual Salary  Predicted Salary\n",
       "0         3.6          47900      50372.211512\n",
       "1         1.8          34900      37632.124077\n",
       "2         3.0          49000      46125.515701\n",
       "3         1.8          34000      37632.124077\n",
       "4         1.5          35900      35508.776172\n",
       "5         4.9          60000      59573.385771\n",
       "6         1.6          32000      36216.558807\n",
       "7         3.5          45000      49664.428877"
      ]
     },
     "execution_count": 28,
     "metadata": {},
     "output_type": "execute_result"
    }
   ],
   "source": [
    "import pandas as pd\n",
    "\n",
    "# Creating a DataFrame with x_test, y_test, and y_pred\n",
    "results_df = pd.DataFrame({'Experience': x_test.squeeze(), 'Actual Salary': y_test, 'Predicted Salary': y_pred})\n",
    "results_df"
   ]
  },
  {
   "cell_type": "code",
   "execution_count": 39,
   "id": "bd970069",
   "metadata": {
    "id": "bd970069",
    "outputId": "5657417d-3a29-45f6-a203-a003f066583c"
   },
   "outputs": [
    {
     "data": {
      "image/png": "[encoded data removed]",
      "text/plain": [
       "<Figure size 640x480 with 1 Axes>"
      ]
     },
     "metadata": {},
     "output_type": "display_data"
    }
   ],
   "source": [
    "results_df[\"Actual Salary\"].plot(color=\"blue\")\n",
    "results_df[\"Predicted Salary\"].plot(color=\"orange\")\n",
    "plt.show()"
   ]
  },
  {
   "cell_type": "code",
   "execution_count": 40,
   "id": "71fb01e3",
   "metadata": {
    "id": "71fb01e3",
    "outputId": "249d6111-d855-4c68-a86f-581bfc7b24ea"
   },
   "outputs": [
    {
     "data": {
      "text/html": [
       "<div>\n",
       "<style scoped>\n",
       "    .dataframe tbody tr th:only-of-type {\n",
       "        vertical-align: middle;\n",
       "    }\n",
       "\n",
       "    .dataframe tbody tr th {\n",
       "        vertical-align: top;\n",
       "    }\n",
       "\n",
       "    .dataframe thead th {\n",
       "        text-align: right;\n",
       "    }\n",
       "</style>\n",
       "<table border=\"1\" class=\"dataframe\">\n",
       "  <thead>\n",
       "    <tr style=\"text-align: right;\">\n",
       "      <th></th>\n",
       "      <th>Experience</th>\n",
       "      <th>Actual Salary</th>\n",
       "      <th>Predicted Salary</th>\n",
       "      <th>Residual</th>\n",
       "    </tr>\n",
       "  </thead>\n",
       "  <tbody>\n",
       "    <tr>\n",
       "      <th>0</th>\n",
       "      <td>3.6</td>\n",
       "      <td>47900</td>\n",
       "      <td>50372.211512</td>\n",
       "      <td>-2472.211512</td>\n",
       "    </tr>\n",
       "    <tr>\n",
       "      <th>1</th>\n",
       "      <td>1.8</td>\n",
       "      <td>34900</td>\n",
       "      <td>37632.124077</td>\n",
       "      <td>-2732.124077</td>\n",
       "    </tr>\n",
       "    <tr>\n",
       "      <th>2</th>\n",
       "      <td>3.0</td>\n",
       "      <td>49000</td>\n",
       "      <td>46125.515701</td>\n",
       "      <td>2874.484299</td>\n",
       "    </tr>\n",
       "    <tr>\n",
       "      <th>3</th>\n",
       "      <td>1.8</td>\n",
       "      <td>34000</td>\n",
       "      <td>37632.124077</td>\n",
       "      <td>-3632.124077</td>\n",
       "    </tr>\n",
       "    <tr>\n",
       "      <th>4</th>\n",
       "      <td>1.5</td>\n",
       "      <td>35900</td>\n",
       "      <td>35508.776172</td>\n",
       "      <td>391.223828</td>\n",
       "    </tr>\n",
       "    <tr>\n",
       "      <th>5</th>\n",
       "      <td>4.9</td>\n",
       "      <td>60000</td>\n",
       "      <td>59573.385771</td>\n",
       "      <td>426.614229</td>\n",
       "    </tr>\n",
       "    <tr>\n",
       "      <th>6</th>\n",
       "      <td>1.6</td>\n",
       "      <td>32000</td>\n",
       "      <td>36216.558807</td>\n",
       "      <td>-4216.558807</td>\n",
       "    </tr>\n",
       "    <tr>\n",
       "      <th>7</th>\n",
       "      <td>3.5</td>\n",
       "      <td>45000</td>\n",
       "      <td>49664.428877</td>\n",
       "      <td>-4664.428877</td>\n",
       "    </tr>\n",
       "  </tbody>\n",
       "</table>\n",
       "</div>"
      ],
      "text/plain": [
       "   Experience  Actual Salary  Predicted Salary     Residual\n",
       "0         3.6          47900      50372.211512 -2472.211512\n",
       "1         1.8          34900      37632.124077 -2732.124077\n",
       "2         3.0          49000      46125.515701  2874.484299\n",
       "3         1.8          34000      37632.124077 -3632.124077\n",
       "4         1.5          35900      35508.776172   391.223828\n",
       "5         4.9          60000      59573.385771   426.614229\n",
       "6         1.6          32000      36216.558807 -4216.558807\n",
       "7         3.5          45000      49664.428877 -4664.428877"
      ]
     },
     "execution_count": 40,
     "metadata": {},
     "output_type": "execute_result"
    }
   ],
   "source": [
    "results_df[\"Residual\"]=results_df[\"Actual Salary\"]-results_df[\"Predicted Salary\"]\n",
    "results_df"
   ]
  },
  {
   "cell_type": "code",
   "execution_count": 45,
   "id": "e619f258",
   "metadata": {
    "id": "e619f258"
   },
   "outputs": [
    {
     "name": "stdout",
     "output_type": "stream",
     "text": [
      "R-squared: 0.8877894624797882\n"
     ]
    }
   ],
   "source": [
    "# Checks the Accuracy of Model\n",
    "\n",
    "from sklearn.metrics import r2_score\n",
    "r2=r2_score(y_test,y_pred)\n",
    "print(\"R-squared:\",r2)"
   ]
  },
  {
   "cell_type": "code",
   "execution_count": 49,
   "id": "da7c6538-e1dc-4550-b13b-57411bef6d74",
   "metadata": {},
   "outputs": [
    {
     "data": {
      "text/html": [
       "<div>\n",
       "<style scoped>\n",
       "    .dataframe tbody tr th:only-of-type {\n",
       "        vertical-align: middle;\n",
       "    }\n",
       "\n",
       "    .dataframe tbody tr th {\n",
       "        vertical-align: top;\n",
       "    }\n",
       "\n",
       "    .dataframe thead th {\n",
       "        text-align: right;\n",
       "    }\n",
       "</style>\n",
       "<table border=\"1\" class=\"dataframe\">\n",
       "  <thead>\n",
       "    <tr style=\"text-align: right;\">\n",
       "      <th></th>\n",
       "      <th>Experience</th>\n",
       "    </tr>\n",
       "  </thead>\n",
       "  <tbody>\n",
       "    <tr>\n",
       "      <th>0</th>\n",
       "      <td>3.0</td>\n",
       "    </tr>\n",
       "    <tr>\n",
       "      <th>1</th>\n",
       "      <td>4.0</td>\n",
       "    </tr>\n",
       "    <tr>\n",
       "      <th>2</th>\n",
       "      <td>0.0</td>\n",
       "    </tr>\n",
       "    <tr>\n",
       "      <th>3</th>\n",
       "      <td>2.6</td>\n",
       "    </tr>\n",
       "    <tr>\n",
       "      <th>4</th>\n",
       "      <td>7.0</td>\n",
       "    </tr>\n",
       "    <tr>\n",
       "      <th>5</th>\n",
       "      <td>3.5</td>\n",
       "    </tr>\n",
       "  </tbody>\n",
       "</table>\n",
       "</div>"
      ],
      "text/plain": [
       "   Experience\n",
       "0         3.0\n",
       "1         4.0\n",
       "2         0.0\n",
       "3         2.6\n",
       "4         7.0\n",
       "5         3.5"
      ]
     },
     "execution_count": 49,
     "metadata": {},
     "output_type": "execute_result"
    }
   ],
   "source": [
    "# Predicting Y value on random X\n",
    "test = pd.DataFrame({\"Experience\":[3,4,0,2.6,7,3.5]})\n",
    "test"
   ]
  },
  {
   "cell_type": "code",
   "execution_count": 50,
   "id": "37719f90-6a2f-49e7-a849-f3736a328052",
   "metadata": {},
   "outputs": [],
   "source": [
    "y_test_new = lm.predict(test)"
   ]
  },
  {
   "cell_type": "code",
   "execution_count": 51,
   "id": "dffa4b2b-40c3-41e8-b67f-b0eccf492cbf",
   "metadata": {},
   "outputs": [
    {
     "data": {
      "text/plain": [
       "array([46125.51570075, 53203.34205354, 24892.03664235, 43294.38515963,\n",
       "       74436.82111194, 49664.42887715])"
      ]
     },
     "execution_count": 51,
     "metadata": {},
     "output_type": "execute_result"
    }
   ],
   "source": [
    "y_test_new"
   ]
  },
  {
   "cell_type": "code",
   "execution_count": 53,
   "id": "29d64832-c5c5-49e4-85ed-90c326a0e25e",
   "metadata": {},
   "outputs": [],
   "source": [
    "test[\"Salary\"] = y_test_new"
   ]
  },
  {
   "cell_type": "code",
   "execution_count": 54,
   "id": "521a5aff-fe87-446c-85d2-0198d53d9e93",
   "metadata": {},
   "outputs": [
    {
     "data": {
      "text/html": [
       "<div>\n",
       "<style scoped>\n",
       "    .dataframe tbody tr th:only-of-type {\n",
       "        vertical-align: middle;\n",
       "    }\n",
       "\n",
       "    .dataframe tbody tr th {\n",
       "        vertical-align: top;\n",
       "    }\n",
       "\n",
       "    .dataframe thead th {\n",
       "        text-align: right;\n",
       "    }\n",
       "</style>\n",
       "<table border=\"1\" class=\"dataframe\">\n",
       "  <thead>\n",
       "    <tr style=\"text-align: right;\">\n",
       "      <th></th>\n",
       "      <th>Experience</th>\n",
       "      <th>Salary</th>\n",
       "    </tr>\n",
       "  </thead>\n",
       "  <tbody>\n",
       "    <tr>\n",
       "      <th>0</th>\n",
       "      <td>3.0</td>\n",
       "      <td>46125.515701</td>\n",
       "    </tr>\n",
       "    <tr>\n",
       "      <th>1</th>\n",
       "      <td>4.0</td>\n",
       "      <td>53203.342054</td>\n",
       "    </tr>\n",
       "    <tr>\n",
       "      <th>2</th>\n",
       "      <td>0.0</td>\n",
       "      <td>24892.036642</td>\n",
       "    </tr>\n",
       "    <tr>\n",
       "      <th>3</th>\n",
       "      <td>2.6</td>\n",
       "      <td>43294.385160</td>\n",
       "    </tr>\n",
       "    <tr>\n",
       "      <th>4</th>\n",
       "      <td>7.0</td>\n",
       "      <td>74436.821112</td>\n",
       "    </tr>\n",
       "    <tr>\n",
       "      <th>5</th>\n",
       "      <td>3.5</td>\n",
       "      <td>49664.428877</td>\n",
       "    </tr>\n",
       "  </tbody>\n",
       "</table>\n",
       "</div>"
      ],
      "text/plain": [
       "   Experience        Salary\n",
       "0         3.0  46125.515701\n",
       "1         4.0  53203.342054\n",
       "2         0.0  24892.036642\n",
       "3         2.6  43294.385160\n",
       "4         7.0  74436.821112\n",
       "5         3.5  49664.428877"
      ]
     },
     "execution_count": 54,
     "metadata": {},
     "output_type": "execute_result"
    }
   ],
   "source": [
    "test"
   ]
  },
  {
   "cell_type": "code",
   "execution_count": null,
   "id": "87719a9d-e2ce-4343-91f6-be147e4d47f0",
   "metadata": {},
   "outputs": [],
   "source": []
  }
 ],
 "metadata": {
  "colab": {
   "provenance": []
  },
  "kernelspec": {
   "display_name": "Python 3 (ipykernel)",
   "language": "python",
   "name": "python3"
  },
  "language_info": {
   "codemirror_mode": {
    "name": "ipython",
    "version": 3
   },
   "file_extension": ".py",
   "mimetype": "text/x-python",
   "name": "python",
   "nbconvert_exporter": "python",
   "pygments_lexer": "ipython3",
   "version": "3.13.5"
  }
 },
 "nbformat": 4,
 "nbformat_minor": 5
}
